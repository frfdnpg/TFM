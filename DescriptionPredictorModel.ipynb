{
 "cells": [
  {
   "cell_type": "code",
   "execution_count": 1,
   "metadata": {},
   "outputs": [
    {
     "name": "stderr",
     "output_type": "stream",
     "text": [
      "Using TensorFlow backend.\n"
     ]
    }
   ],
   "source": [
    "import keras\n",
    "from keras import Input, layers, optimizers, Model\n",
    "from keras.applications import InceptionV3\n",
    "from keras.preprocessing import image\n",
    "from keras.preprocessing.text import Tokenizer\n",
    "from keras.preprocessing.sequence import pad_sequences\n",
    "from keras.preprocessing.image import ImageDataGenerator\n",
    "from keras.applications.inception_v3 import preprocess_input\n",
    "from keras.models import Sequential, Model\n",
    "from keras.layers import LSTM, Embedding, TimeDistributed, Dense, RepeatVector, Activation, Flatten, Reshape, concatenate, Dropout, BatchNormalization\n",
    "from keras.layers.merge import add\n",
    "from keras.utils import to_categorical\n",
    "import numpy as np\n",
    "import glob\n",
    "import pandas as pd\n",
    "from numpy import array\n",
    "import os\n",
    "import pickle\n",
    "import matplotlib.pyplot as plt\n",
    "%matplotlib inline"
   ]
  },
  {
   "cell_type": "code",
   "execution_count": 2,
   "metadata": {},
   "outputs": [
    {
     "name": "stdout",
     "output_type": "stream",
     "text": [
      "WARNING:tensorflow:From C:\\Users\\Xavi\\Anaconda3\\envs\\TFM\\lib\\site-packages\\keras\\backend\\tensorflow_backend.py:74: The name tf.get_default_graph is deprecated. Please use tf.compat.v1.get_default_graph instead.\n",
      "\n",
      "WARNING:tensorflow:From C:\\Users\\Xavi\\Anaconda3\\envs\\TFM\\lib\\site-packages\\keras\\backend\\tensorflow_backend.py:517: The name tf.placeholder is deprecated. Please use tf.compat.v1.placeholder instead.\n",
      "\n",
      "WARNING:tensorflow:From C:\\Users\\Xavi\\Anaconda3\\envs\\TFM\\lib\\site-packages\\keras\\backend\\tensorflow_backend.py:4138: The name tf.random_uniform is deprecated. Please use tf.random.uniform instead.\n",
      "\n",
      "WARNING:tensorflow:From C:\\Users\\Xavi\\Anaconda3\\envs\\TFM\\lib\\site-packages\\keras\\backend\\tensorflow_backend.py:174: The name tf.get_default_session is deprecated. Please use tf.compat.v1.get_default_session instead.\n",
      "\n",
      "WARNING:tensorflow:From C:\\Users\\Xavi\\Anaconda3\\envs\\TFM\\lib\\site-packages\\keras\\backend\\tensorflow_backend.py:181: The name tf.ConfigProto is deprecated. Please use tf.compat.v1.ConfigProto instead.\n",
      "\n",
      "WARNING:tensorflow:From C:\\Users\\Xavi\\Anaconda3\\envs\\TFM\\lib\\site-packages\\keras\\backend\\tensorflow_backend.py:186: The name tf.Session is deprecated. Please use tf.compat.v1.Session instead.\n",
      "\n",
      "WARNING:tensorflow:From C:\\Users\\Xavi\\Anaconda3\\envs\\TFM\\lib\\site-packages\\keras\\backend\\tensorflow_backend.py:190: The name tf.global_variables is deprecated. Please use tf.compat.v1.global_variables instead.\n",
      "\n",
      "WARNING:tensorflow:From C:\\Users\\Xavi\\Anaconda3\\envs\\TFM\\lib\\site-packages\\keras\\backend\\tensorflow_backend.py:199: The name tf.is_variable_initialized is deprecated. Please use tf.compat.v1.is_variable_initialized instead.\n",
      "\n",
      "WARNING:tensorflow:From C:\\Users\\Xavi\\Anaconda3\\envs\\TFM\\lib\\site-packages\\keras\\backend\\tensorflow_backend.py:206: The name tf.variables_initializer is deprecated. Please use tf.compat.v1.variables_initializer instead.\n",
      "\n",
      "WARNING:tensorflow:From C:\\Users\\Xavi\\Anaconda3\\envs\\TFM\\lib\\site-packages\\keras\\backend\\tensorflow_backend.py:1834: The name tf.nn.fused_batch_norm is deprecated. Please use tf.compat.v1.nn.fused_batch_norm instead.\n",
      "\n",
      "WARNING:tensorflow:From C:\\Users\\Xavi\\Anaconda3\\envs\\TFM\\lib\\site-packages\\keras\\backend\\tensorflow_backend.py:133: The name tf.placeholder_with_default is deprecated. Please use tf.compat.v1.placeholder_with_default instead.\n",
      "\n",
      "WARNING:tensorflow:From C:\\Users\\Xavi\\Anaconda3\\envs\\TFM\\lib\\site-packages\\keras\\backend\\tensorflow_backend.py:3976: The name tf.nn.max_pool is deprecated. Please use tf.nn.max_pool2d instead.\n",
      "\n",
      "WARNING:tensorflow:From C:\\Users\\Xavi\\Anaconda3\\envs\\TFM\\lib\\site-packages\\keras\\backend\\tensorflow_backend.py:3980: The name tf.nn.avg_pool is deprecated. Please use tf.nn.avg_pool2d instead.\n",
      "\n"
     ]
    }
   ],
   "source": [
    "# Load InceptionV3 model and remove the softmax layer\n",
    "inceptionV3_model = InceptionV3(weights='imagenet')\n",
    "model = Model(inceptionV3_model.input, inceptionV3_model.layers[-2].output)"
   ]
  },
  {
   "cell_type": "code",
   "execution_count": 3,
   "metadata": {},
   "outputs": [],
   "source": [
    "# Load the train and test data\n",
    "data_path = \"Data/CaptionPredictionData/\"\n",
    "train_data = pd.read_csv(data_path + \"Descriptions_all_train.csv\", sep=\";\")\n",
    "test_data = pd.read_csv(data_path + \"Descriptions_all_test.csv\", sep=\";\")\n",
    "train_image_names = train_data.iloc[:,0]\n",
    "test_image_names = test_data.iloc[:,0]\n",
    "train_images = glob.glob(data_path + 'Data/train/all/*')\n",
    "test_images = glob.glob(data_path + 'Data/test/all/*')"
   ]
  },
  {
   "cell_type": "code",
   "execution_count": 4,
   "metadata": {},
   "outputs": [],
   "source": [
    "# Function to prepare the images to be feed into the inception v3 model\n",
    "def prepare_image(image_path):\n",
    "    img = image.load_img(image_path, target_size=(299, 299))\n",
    "    array = image.img_to_array(img)\n",
    "    array = np.expand_dims(array, axis=0)\n",
    "    preprocessed_image = preprocess_input(array)\n",
    "    return preprocessed_image\n",
    "\n",
    "# Function to encode a given image into a vector\n",
    "def encode(image, model):\n",
    "    preprocessed_image = prepare_image(image)\n",
    "    encoded_vector = model.predict(preprocessed_image)\n",
    "    encoded_vector = np.reshape(encoded_vector, encoded_vector.shape[1])\n",
    "    return encoded_vector"
   ]
  },
  {
   "cell_type": "code",
   "execution_count": 5,
   "metadata": {},
   "outputs": [
    {
     "name": "stderr",
     "output_type": "stream",
     "text": [
      "C:\\Users\\Xavi\\Anaconda3\\envs\\TFM\\lib\\site-packages\\PIL\\Image.py:989: UserWarning: Palette images with Transparency expressed in bytes should be converted to RGBA images\n",
      "  \"Palette images with Transparency expressed in bytes should be \"\n"
     ]
    }
   ],
   "source": [
    "def encode_images(images): \n",
    "    encoded_images = {}\n",
    "    for img in images:\n",
    "        encoded_images[img.split(\"\\\\\")[1]] = encode(img, model)\n",
    "    return encoded_images\n",
    "\n",
    "# Save the encoded images as pickle files to speed up future executions\n",
    "with open(\"CaptionPrediction/Pickle/encoded_train_images.pkl\", \"wb\") as encoded_train_pickle:\n",
    "    pickle.dump(encode_images(train_images), encoded_train_pickle)\n",
    "    \n",
    "with open(\"CaptionPrediction/Pickle/encoded_test_images.pkl\", \"wb\") as encoded_test_pickle:\n",
    "    pickle.dump(encode_images(test_images), encoded_test_pickle)"
   ]
  },
  {
   "cell_type": "code",
   "execution_count": 6,
   "metadata": {},
   "outputs": [],
   "source": [
    "train_features = pickle.load(open(\"CaptionPrediction/Pickle/encoded_train_images.pkl\", \"rb\"))"
   ]
  },
  {
   "cell_type": "code",
   "execution_count": 7,
   "metadata": {},
   "outputs": [],
   "source": [
    "# Load the descriptions and add start and end tokens\n",
    "def load_clean_descriptions(train_data):\n",
    "    descriptions = {}\n",
    "    for index,row in train_data.iterrows():\n",
    "        desc = '#START ' + row[1] + ' #END'\n",
    "        descriptions[row[0]] = []\n",
    "        descriptions[row[0]].append(desc)\n",
    "    return descriptions\n",
    "\n",
    "train_descriptions = load_clean_descriptions(train_data)\n",
    "all_train_captions = []\n",
    "for key, val in train_descriptions.items():\n",
    "    for cap in val:\n",
    "        all_train_captions.append(cap)"
   ]
  },
  {
   "cell_type": "code",
   "execution_count": 8,
   "metadata": {},
   "outputs": [],
   "source": [
    "def generate_corpus(threshold, descriptions):\n",
    "    words = {}\n",
    "    for description in descriptions:\n",
    "        for word in description.split(' '):\n",
    "            words[word] = words.get(word, 0) + 1\n",
    "    \n",
    "    return  [word for word in words if words[word] >= threshold]\n",
    "\n",
    "\n",
    "corpus_vocab = generate_corpus(2, all_train_captions)"
   ]
  },
  {
   "cell_type": "code",
   "execution_count": 9,
   "metadata": {},
   "outputs": [
    {
     "data": {
      "text/plain": [
       "99"
      ]
     },
     "execution_count": 9,
     "metadata": {},
     "output_type": "execute_result"
    }
   ],
   "source": [
    "word_to_position = {}\n",
    "position_to_word = {}\n",
    "position = 1\n",
    "for word in corpus_vocab:\n",
    "    word_to_position[word] = position\n",
    "    position_to_word[position] = word\n",
    "    position += 1\n",
    "vocab_size = len(position_to_word) + 1\n",
    "vocab_size"
   ]
  },
  {
   "cell_type": "code",
   "execution_count": 10,
   "metadata": {},
   "outputs": [
    {
     "data": {
      "text/plain": [
       "19"
      ]
     },
     "execution_count": 10,
     "metadata": {},
     "output_type": "execute_result"
    }
   ],
   "source": [
    "# Get maximum sequence length\n",
    "max_length = max(len(description.split()) for description in all_train_captions)\n",
    "max_length"
   ]
  },
  {
   "cell_type": "code",
   "execution_count": 22,
   "metadata": {},
   "outputs": [],
   "source": [
    "with open('Model/corpus_all.txt', 'wb') as corpus_file:\n",
    "    pickle.dump(corpus_vocab, corpus_file)"
   ]
  },
  {
   "cell_type": "code",
   "execution_count": 11,
   "metadata": {},
   "outputs": [],
   "source": [
    "def data_generator(descriptions, images, word_to_position, max_length, batch_images):\n",
    "    X1, X2, y = [], [], []\n",
    "    counter=0\n",
    "    # loop for ever over images\n",
    "    while True:\n",
    "        for key, desc_list in descriptions.items():\n",
    "            counter+=1\n",
    "            image = images[key]\n",
    "            for description in desc_list:\n",
    "                # encode the sequence\n",
    "                seq = [word_to_position[word] for word in description.split(' ') if word in word_to_position]\n",
    "                for i in range(1, len(seq)):\n",
    "                    # split into input and output pair\n",
    "                    in_seq, out_seq = seq[:i], seq[i]\n",
    "                    # pad input sequence\n",
    "                    in_seq = pad_sequences([in_seq], maxlen=max_length)[0]\n",
    "                    # encode output sequence\n",
    "                    out_seq = to_categorical([out_seq], num_classes=vocab_size)[0]\n",
    "                    X1.append(image)\n",
    "                    X2.append(in_seq)\n",
    "                    y.append(out_seq)\n",
    "            if counter==batch_images:\n",
    "                yield [[array(X1), array(X2)], array(y)]\n",
    "                X1, X2, y = [], [], []\n",
    "                counter=0"
   ]
  },
  {
   "cell_type": "code",
   "execution_count": 12,
   "metadata": {},
   "outputs": [],
   "source": [
    "# Load Glove vectors\n",
    "glove_dir = data_path + 'glove'\n",
    "embeddings_index = {}\n",
    "f = open(os.path.join(glove_dir, 'glove.6B.200d.txt'), encoding=\"utf-8\")\n",
    "\n",
    "for line in f:\n",
    "    values = line.split()\n",
    "    word = values[0]\n",
    "    coefs = np.asarray(values[1:], dtype='float32')\n",
    "    embeddings_index[word] = coefs\n",
    "f.close()\n",
    "\n",
    "embedding_dim = 200\n",
    "embedding_matrix = np.zeros((vocab_size, embedding_dim))\n",
    "\n",
    "for word, i in word_to_position.items():\n",
    "    embedding_vector = embeddings_index.get(word)\n",
    "    if embedding_vector is not None:\n",
    "        embedding_matrix[i] = embedding_vector"
   ]
  },
  {
   "cell_type": "code",
   "execution_count": 13,
   "metadata": {},
   "outputs": [
    {
     "name": "stdout",
     "output_type": "stream",
     "text": [
      "WARNING:tensorflow:From C:\\Users\\Xavi\\Anaconda3\\envs\\TFM\\lib\\site-packages\\keras\\backend\\tensorflow_backend.py:3445: calling dropout (from tensorflow.python.ops.nn_ops) with keep_prob is deprecated and will be removed in a future version.\n",
      "Instructions for updating:\n",
      "Please use `rate` instead of `keep_prob`. Rate should be set to `rate = 1 - keep_prob`.\n",
      "WARNING:tensorflow:From C:\\Users\\Xavi\\Anaconda3\\envs\\TFM\\lib\\site-packages\\keras\\backend\\tensorflow_backend.py:2974: where (from tensorflow.python.ops.array_ops) is deprecated and will be removed in a future version.\n",
      "Instructions for updating:\n",
      "Use tf.where in 2.0, which has the same broadcast rule as np.where\n",
      "__________________________________________________________________________________________________\n",
      "Layer (type)                    Output Shape         Param #     Connected to                     \n",
      "==================================================================================================\n",
      "input_3 (InputLayer)            (None, 19)           0                                            \n",
      "__________________________________________________________________________________________________\n",
      "input_2 (InputLayer)            (None, 2048)         0                                            \n",
      "__________________________________________________________________________________________________\n",
      "embedding_1 (Embedding)         (None, 19, 200)      19800       input_3[0][0]                    \n",
      "__________________________________________________________________________________________________\n",
      "dropout_1 (Dropout)             (None, 2048)         0           input_2[0][0]                    \n",
      "__________________________________________________________________________________________________\n",
      "dropout_2 (Dropout)             (None, 19, 200)      0           embedding_1[0][0]                \n",
      "__________________________________________________________________________________________________\n",
      "dense_1 (Dense)                 (None, 256)          524544      dropout_1[0][0]                  \n",
      "__________________________________________________________________________________________________\n",
      "lstm_1 (LSTM)                   (None, 256)          467968      dropout_2[0][0]                  \n",
      "__________________________________________________________________________________________________\n",
      "add_1 (Add)                     (None, 256)          0           dense_1[0][0]                    \n",
      "                                                                 lstm_1[0][0]                     \n",
      "__________________________________________________________________________________________________\n",
      "dense_2 (Dense)                 (None, 256)          65792       add_1[0][0]                      \n",
      "__________________________________________________________________________________________________\n",
      "dense_3 (Dense)                 (None, 99)           25443       dense_2[0][0]                    \n",
      "==================================================================================================\n",
      "Total params: 1,103,547\n",
      "Trainable params: 1,103,547\n",
      "Non-trainable params: 0\n",
      "__________________________________________________________________________________________________\n",
      "WARNING:tensorflow:From C:\\Users\\Xavi\\Anaconda3\\envs\\TFM\\lib\\site-packages\\keras\\optimizers.py:790: The name tf.train.Optimizer is deprecated. Please use tf.compat.v1.train.Optimizer instead.\n",
      "\n",
      "WARNING:tensorflow:From C:\\Users\\Xavi\\Anaconda3\\envs\\TFM\\lib\\site-packages\\keras\\backend\\tensorflow_backend.py:3295: The name tf.log is deprecated. Please use tf.math.log instead.\n",
      "\n"
     ]
    }
   ],
   "source": [
    "# Image Input and layers to avoid overfitting\n",
    "input_1 = Input(shape=(2048,))\n",
    "image_layer_1 = Dropout(0.5)(input_1)\n",
    "image_layer_2 = Dense(256, activation='relu')(image_layer_1)\n",
    "\n",
    "# Partial caption input and LSTM layer\n",
    "input_2 = Input(shape=(max_length,))\n",
    "caption_layer_1 = Embedding(vocab_size, embedding_dim, mask_zero=True)(input_2)\n",
    "caption_layer_2 = Dropout(0.5)(caption_layer_1)\n",
    "caption_layer_3 = LSTM(256)(caption_layer_2)\n",
    "\n",
    "# Merge the two inputs and decode\n",
    "decoder_1 = add([image_layer_2, caption_layer_3])\n",
    "decoder_2 = Dense(256, activation='relu')(decoder_1)\n",
    "\n",
    "# Output\n",
    "outputs = Dense(vocab_size, activation='softmax')(decoder_2)\n",
    "\n",
    "model = Model(inputs=[input_1, input_2], outputs=outputs)\n",
    "\n",
    "model.summary()\n",
    "\n",
    "# Add the weights from the Glove model and make it not trainable\n",
    "model.layers[2].set_weights([embedding_matrix])\n",
    "model.layers[2].trainable = False\n",
    "\n",
    "model.compile(loss='categorical_crossentropy', optimizer='adam')"
   ]
  },
  {
   "cell_type": "code",
   "execution_count": 14,
   "metadata": {},
   "outputs": [
    {
     "name": "stdout",
     "output_type": "stream",
     "text": [
      "WARNING:tensorflow:From C:\\Users\\Xavi\\Anaconda3\\envs\\TFM\\lib\\site-packages\\keras\\backend\\tensorflow_backend.py:986: The name tf.assign_add is deprecated. Please use tf.compat.v1.assign_add instead.\n",
      "\n",
      "WARNING:tensorflow:From C:\\Users\\Xavi\\Anaconda3\\envs\\TFM\\lib\\site-packages\\keras\\backend\\tensorflow_backend.py:973: The name tf.assign is deprecated. Please use tf.compat.v1.assign instead.\n",
      "\n",
      "Epoch 1/50\n",
      "249/249 [==============================] - 31s 125ms/step - loss: 2.0327\n",
      "Epoch 2/50\n",
      "249/249 [==============================] - 21s 85ms/step - loss: 1.2384\n",
      "Epoch 3/50\n",
      "249/249 [==============================] - 19s 75ms/step - loss: 1.0314\n",
      "Epoch 4/50\n",
      "249/249 [==============================] - 19s 74ms/step - loss: 0.8840\n",
      "Epoch 5/50\n",
      "249/249 [==============================] - 19s 77ms/step - loss: 0.8188\n",
      "Epoch 6/50\n",
      "249/249 [==============================] - 19s 77ms/step - loss: 0.7206\n",
      "Epoch 7/50\n",
      "249/249 [==============================] - 19s 75ms/step - loss: 0.7125\n",
      "Epoch 8/50\n",
      "249/249 [==============================] - 19s 76ms/step - loss: 0.6869\n",
      "Epoch 9/50\n",
      "249/249 [==============================] - 26s 103ms/step - loss: 0.6452\n",
      "Epoch 10/50\n",
      "249/249 [==============================] - 27s 107ms/step - loss: 0.6186\n",
      "Epoch 11/50\n",
      "249/249 [==============================] - 23s 92ms/step - loss: 0.5892\n",
      "Epoch 12/50\n",
      "249/249 [==============================] - 21s 85ms/step - loss: 0.5825\n",
      "Epoch 13/50\n",
      "249/249 [==============================] - 20s 80ms/step - loss: 0.5764\n",
      "Epoch 14/50\n",
      "249/249 [==============================] - 20s 80ms/step - loss: 0.5566\n",
      "Epoch 15/50\n",
      "249/249 [==============================] - 20s 82ms/step - loss: 0.5454\n",
      "Epoch 16/50\n",
      "249/249 [==============================] - 20s 81ms/step - loss: 0.5346\n",
      "Epoch 17/50\n",
      "249/249 [==============================] - 22s 89ms/step - loss: 0.4943\n",
      "Epoch 18/50\n",
      "249/249 [==============================] - 23s 94ms/step - loss: 0.4674\n",
      "Epoch 19/50\n",
      "249/249 [==============================] - 26s 105ms/step - loss: 0.4531\n",
      "Epoch 20/50\n",
      "249/249 [==============================] - 24s 95ms/step - loss: 0.4400\n",
      "Epoch 21/50\n",
      "249/249 [==============================] - 26s 105ms/step - loss: 0.4172\n",
      "Epoch 22/50\n",
      "249/249 [==============================] - 24s 95ms/step - loss: 0.4023\n",
      "Epoch 23/50\n",
      "249/249 [==============================] - 24s 97ms/step - loss: 0.3845\n",
      "Epoch 24/50\n",
      "249/249 [==============================] - 22s 87ms/step - loss: 0.3982\n",
      "Epoch 25/50\n",
      "249/249 [==============================] - 30s 122ms/step - loss: 0.3807\n",
      "Epoch 26/50\n",
      "249/249 [==============================] - 26s 105ms/step - loss: 0.3658\n",
      "Epoch 27/50\n",
      "249/249 [==============================] - 28s 112ms/step - loss: 0.3506\n",
      "Epoch 28/50\n",
      "249/249 [==============================] - 23s 91ms/step - loss: 0.3345\n",
      "Epoch 29/50\n",
      "249/249 [==============================] - 21s 86ms/step - loss: 0.3340\n",
      "Epoch 30/50\n",
      "249/249 [==============================] - 24s 95ms/step - loss: 0.3208\n",
      "Epoch 31/50\n",
      "249/249 [==============================] - 24s 97ms/step - loss: 0.3011\n",
      "Epoch 32/50\n",
      "249/249 [==============================] - 25s 100ms/step - loss: 0.2875\n",
      "Epoch 33/50\n",
      "249/249 [==============================] - 23s 94ms/step - loss: 0.2861\n",
      "Epoch 34/50\n",
      "249/249 [==============================] - 25s 99ms/step - loss: 0.2798\n",
      "Epoch 35/50\n",
      "249/249 [==============================] - 21s 85ms/step - loss: 0.2756\n",
      "Epoch 36/50\n",
      "249/249 [==============================] - 22s 89ms/step - loss: 0.2667\n",
      "Epoch 37/50\n",
      "249/249 [==============================] - 24s 97ms/step - loss: 0.2707\n",
      "Epoch 38/50\n",
      "249/249 [==============================] - 22s 89ms/step - loss: 0.2455\n",
      "Epoch 39/50\n",
      "249/249 [==============================] - 23s 91ms/step - loss: 0.2475 0s - loss: 0\n",
      "Epoch 40/50\n",
      "249/249 [==============================] - 22s 90ms/step - loss: 0.2382 ETA: 1\n",
      "Epoch 41/50\n",
      "249/249 [==============================] - 24s 95ms/step - loss: 0.2351\n",
      "Epoch 42/50\n",
      "249/249 [==============================] - 24s 96ms/step - loss: 0.2314 0s - loss: \n",
      "Epoch 43/50\n",
      "249/249 [==============================] - 29s 116ms/step - loss: 0.2290\n",
      "Epoch 44/50\n",
      "249/249 [==============================] - 29s 117ms/step - loss: 0.2305\n",
      "Epoch 45/50\n",
      "249/249 [==============================] - 26s 104ms/step - loss: 0.2185\n",
      "Epoch 46/50\n",
      "249/249 [==============================] - 27s 108ms/step - loss: 0.2102\n",
      "Epoch 47/50\n",
      "249/249 [==============================] - 31s 126ms/step - loss: 0.2104\n",
      "Epoch 48/50\n",
      "249/249 [==============================] - 27s 109ms/step - loss: 0.1905\n",
      "Epoch 49/50\n",
      "249/249 [==============================] - 31s 123ms/step - loss: 0.1964\n",
      "Epoch 50/50\n",
      "249/249 [==============================] - 31s 125ms/step - loss: 0.1889\n"
     ]
    }
   ],
   "source": [
    "epochs = 50\n",
    "batch_images = 2\n",
    "steps = len(train_descriptions)//batch_images\n",
    "\n",
    "generator = data_generator(train_descriptions, train_features, word_to_position, max_length, batch_images)\n",
    "model.fit_generator(generator, epochs=epochs, steps_per_epoch=steps, verbose=1)\n",
    "model.save('Model/caption_pred_model_all.h5')"
   ]
  },
  {
   "cell_type": "code",
   "execution_count": 17,
   "metadata": {},
   "outputs": [],
   "source": [
    "model_yaml = model.to_yaml()\n",
    "with open(\"Model/caption_pred_model_all.yaml\", \"w\") as yaml_file:\n",
    "    yaml_file.write(model_yaml)"
   ]
  },
  {
   "cell_type": "code",
   "execution_count": 15,
   "metadata": {},
   "outputs": [],
   "source": [
    "# Load the model with test data\n",
    "model.load_weights('Model/caption_pred_model_all.h5')\n",
    "\n",
    "with open(\"CaptionPrediction/Pickle/encoded_test_images.pkl\", \"rb\") as encoded_pickle:\n",
    "    encoding_test = pickle.load(encoded_pickle)\n",
    "\n",
    "def greedy_search(photo):\n",
    "    in_text = '#START'\n",
    "    for i in range(max_length):\n",
    "        sequence = [word_to_position[w] for w in in_text.split() if w in word_to_position]\n",
    "        sequence = pad_sequences([sequence], maxlen=max_length)\n",
    "        yhat = model.predict([photo,sequence], verbose=0)\n",
    "        yhat = np.argmax(yhat)\n",
    "        word = position_to_word[yhat]\n",
    "        in_text += ' ' + word\n",
    "        if word == '#END':\n",
    "            break\n",
    "    final = in_text.split()\n",
    "    final = final[1:-1]\n",
    "    final = ' '.join(final)\n",
    "    return final"
   ]
  },
  {
   "cell_type": "code",
   "execution_count": 16,
   "metadata": {},
   "outputs": [
    {
     "data": {
      "image/png": "[encoded data removed]",
      "text/plain": [
       "<Figure size 432x288 with 1 Axes>"
      ]
     },
     "metadata": {
      "needs_background": "light"
     },
     "output_type": "display_data"
    },
    {
     "name": "stdout",
     "output_type": "stream",
     "text": [
      "A squared corner business card being held by a hand\n"
     ]
    }
   ],
   "source": [
    "# Test the model\n",
    "path=\"Data/CaptionPredictionData/Data/test/all/\"\n",
    "index=165\n",
    "pic = list(encoding_test.keys())[index]\n",
    "image = encoding_test[pic].reshape((1,2048))\n",
    "x=plt.imread(path+pic)\n",
    "plt.imshow(x)\n",
    "plt.show()\n",
    "print(greedy_search(image))"
   ]
  },
  {
   "cell_type": "code",
   "execution_count": null,
   "metadata": {},
   "outputs": [],
   "source": []
  }
 ],
 "metadata": {
  "kernelspec": {
   "display_name": "Python 3",
   "language": "python",
   "name": "python3"
  },
  "language_info": {
   "codemirror_mode": {
    "name": "ipython",
    "version": 3
   },
   "file_extension": ".py",
   "mimetype": "text/x-python",
   "name": "python",
   "nbconvert_exporter": "python",
   "pygments_lexer": "ipython3",
   "version": "3.7.5"
  }
 },
 "nbformat": 4,
 "nbformat_minor": 4
}
