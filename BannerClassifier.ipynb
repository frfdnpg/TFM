{
 "cells": [
  {
   "cell_type": "code",
   "execution_count": 8,
   "metadata": {},
   "outputs": [],
   "source": [
    "import numpy as np\n",
    "import keras\n",
    "from keras.datasets import mnist\n",
    "from keras.utils import to_categorical\n",
    "from keras.models import Sequential\n",
    "from keras.layers import Dense, Conv2D, Flatten, Activation, Dropout, MaxPooling2D\n",
    "from keras import optimizers\n",
    "import matplotlib.pyplot as plt\n",
    "import math "
   ]
  },
  {
   "cell_type": "code",
   "execution_count": 9,
   "metadata": {},
   "outputs": [],
   "source": [
    "#Variable Definition\n",
    "img_width, img_height = 256, 256\n",
    "top_model_weights_path = 'temporal/bottleneck_fc_model.h5'\n",
    "epochs = 30 \n",
    "batch_size = 30"
   ]
  },
  {
   "cell_type": "code",
   "execution_count": 10,
   "metadata": {},
   "outputs": [],
   "source": [
    "#VGG16 Model\n",
    "from keras.applications import vgg16\n",
    "\n",
    "vgg16 = vgg16.VGG16(include_top=False, weights='imagenet')"
   ]
  },
  {
   "cell_type": "code",
   "execution_count": 11,
   "metadata": {},
   "outputs": [],
   "source": [
    "#Data Augmentation and Bottleneck features generation\n",
    "from keras.preprocessing.image import ImageDataGenerator\n",
    "\n",
    "datagen = ImageDataGenerator(\n",
    "    rescale=1. / 255\n",
    ")"
   ]
  },
  {
   "cell_type": "code",
   "execution_count": 12,
   "metadata": {},
   "outputs": [
    {
     "name": "stdout",
     "output_type": "stream",
     "text": [
      "Found 166 images belonging to 3 classes.\n"
     ]
    }
   ],
   "source": [
    "# Training Bottleneck\n",
    "generator  = datagen.flow_from_directory('Data/BannerClassifier/train/',\n",
    "                                         shuffle=False,\n",
    "                                         class_mode=None,\n",
    "                                         batch_size=batch_size,\n",
    "                                         target_size=(img_width, img_height))\n",
    "\n",
    "nb_train_samples = len(generator.filenames) \n",
    "num_classes = len(generator.class_indices)\n",
    "\n",
    "predict_size_train = int(math.ceil(nb_train_samples / batch_size)) \n",
    "\n",
    "bottleneck_features_train = vgg16.predict_generator(generator, predict_size_train) \n",
    "\n",
    "np.save('temporal/bottleneck_features_train.npy', bottleneck_features_train)"
   ]
  },
  {
   "cell_type": "code",
   "execution_count": 13,
   "metadata": {},
   "outputs": [
    {
     "name": "stdout",
     "output_type": "stream",
     "text": [
      "Found 88 images belonging to 3 classes.\n"
     ]
    }
   ],
   "source": [
    "# Validation Bottleneck\n",
    "generator  = datagen.flow_from_directory('Data/BannerClassifier/test/',\n",
    "                                         shuffle=False,\n",
    "                                         class_mode=None,\n",
    "                                         batch_size=batch_size,\n",
    "                                         target_size=(img_width, img_height))\n",
    "\n",
    "nb_train_samples = len(generator.filenames) \n",
    "num_classes = len(generator.class_indices)\n",
    "\n",
    "predict_size_validation = int(math.ceil(nb_train_samples / batch_size)) \n",
    "\n",
    "bottleneck_features_validation = vgg16.predict_generator(generator, predict_size_validation) \n",
    "\n",
    "np.save('temporal/bottleneck_features_validation.npy', bottleneck_features_validation)"
   ]
  },
  {
   "cell_type": "code",
   "execution_count": 15,
   "metadata": {},
   "outputs": [
    {
     "name": "stdout",
     "output_type": "stream",
     "text": [
      "Found 166 images belonging to 3 classes.\n"
     ]
    }
   ],
   "source": [
    "# Training Data set\n",
    "generator_top = datagen.flow_from_directory( \n",
    "   'Data/BannerClassifier/train/', \n",
    "   target_size=(img_width, img_height), \n",
    "   batch_size=batch_size, \n",
    "   class_mode='categorical', \n",
    "   shuffle=False) \n",
    " \n",
    "nb_train_samples = len(generator_top.filenames) \n",
    "num_classes = len(generator_top.class_indices) \n",
    " \n",
    "train_data = np.load('temporal/bottleneck_features_train.npy') \n",
    "train_labels = generator_top.classes \n",
    "train_labels = to_categorical(train_labels, num_classes=num_classes)"
   ]
  },
  {
   "cell_type": "code",
   "execution_count": 16,
   "metadata": {},
   "outputs": [
    {
     "name": "stdout",
     "output_type": "stream",
     "text": [
      "Found 88 images belonging to 3 classes.\n"
     ]
    }
   ],
   "source": [
    "# Validation Data Set\n",
    "generator_top = datagen.flow_from_directory( \n",
    "   'Data/BannerClassifier/test/', \n",
    "   target_size=(img_width, img_height), \n",
    "   batch_size=batch_size, \n",
    "   class_mode='categorical', \n",
    "   shuffle=False) \n",
    " \n",
    "nb_train_samples = len(generator_top.filenames) \n",
    "num_classes = len(generator_top.class_indices) \n",
    " \n",
    "validation_data = np.load('temporal/bottleneck_features_validation.npy') \n",
    "validation_labels = generator_top.classes \n",
    "validation_labels = to_categorical(validation_labels, num_classes=num_classes)"
   ]
  },
  {
   "cell_type": "code",
   "execution_count": 17,
   "metadata": {},
   "outputs": [
    {
     "name": "stdout",
     "output_type": "stream",
     "text": [
      "WARNING:tensorflow:From C:\\Users\\Xavi\\Anaconda3\\envs\\TFM\\lib\\site-packages\\keras\\backend\\tensorflow_backend.py:133: The name tf.placeholder_with_default is deprecated. Please use tf.compat.v1.placeholder_with_default instead.\n",
      "\n",
      "WARNING:tensorflow:From C:\\Users\\Xavi\\Anaconda3\\envs\\TFM\\lib\\site-packages\\keras\\backend\\tensorflow_backend.py:3445: calling dropout (from tensorflow.python.ops.nn_ops) with keep_prob is deprecated and will be removed in a future version.\n",
      "Instructions for updating:\n",
      "Please use `rate` instead of `keep_prob`. Rate should be set to `rate = 1 - keep_prob`.\n",
      "WARNING:tensorflow:From C:\\Users\\Xavi\\Anaconda3\\envs\\TFM\\lib\\site-packages\\keras\\optimizers.py:790: The name tf.train.Optimizer is deprecated. Please use tf.compat.v1.train.Optimizer instead.\n",
      "\n",
      "WARNING:tensorflow:From C:\\Users\\Xavi\\Anaconda3\\envs\\TFM\\lib\\site-packages\\keras\\backend\\tensorflow_backend.py:3295: The name tf.log is deprecated. Please use tf.math.log instead.\n",
      "\n",
      "WARNING:tensorflow:From C:\\Users\\Xavi\\Anaconda3\\envs\\TFM\\lib\\site-packages\\tensorflow_core\\python\\ops\\math_grad.py:1424: where (from tensorflow.python.ops.array_ops) is deprecated and will be removed in a future version.\n",
      "Instructions for updating:\n",
      "Use tf.where in 2.0, which has the same broadcast rule as np.where\n",
      "WARNING:tensorflow:From C:\\Users\\Xavi\\Anaconda3\\envs\\TFM\\lib\\site-packages\\keras\\backend\\tensorflow_backend.py:986: The name tf.assign_add is deprecated. Please use tf.compat.v1.assign_add instead.\n",
      "\n",
      "WARNING:tensorflow:From C:\\Users\\Xavi\\Anaconda3\\envs\\TFM\\lib\\site-packages\\keras\\backend\\tensorflow_backend.py:973: The name tf.assign is deprecated. Please use tf.compat.v1.assign instead.\n",
      "\n",
      "Train on 166 samples, validate on 88 samples\n",
      "Epoch 1/30\n",
      "166/166 [==============================] - 1s 7ms/step - loss: 1.0313 - acc: 0.5542 - val_loss: 0.5311 - val_acc: 0.7614\n",
      "Epoch 2/30\n",
      "166/166 [==============================] - 0s 2ms/step - loss: 0.5743 - acc: 0.7831 - val_loss: 0.4268 - val_acc: 0.8864\n",
      "Epoch 3/30\n",
      "166/166 [==============================] - 0s 1ms/step - loss: 0.3221 - acc: 0.9096 - val_loss: 0.4944 - val_acc: 0.8295\n",
      "Epoch 4/30\n",
      "166/166 [==============================] - 0s 1ms/step - loss: 0.2952 - acc: 0.8795 - val_loss: 0.3440 - val_acc: 0.8864\n",
      "Epoch 5/30\n",
      "166/166 [==============================] - 0s 1ms/step - loss: 0.2335 - acc: 0.9157 - val_loss: 0.3606 - val_acc: 0.8864\n",
      "Epoch 6/30\n",
      "166/166 [==============================] - 0s 1ms/step - loss: 0.1944 - acc: 0.9217 - val_loss: 0.4869 - val_acc: 0.8409\n",
      "Epoch 7/30\n",
      "166/166 [==============================] - 0s 2ms/step - loss: 0.1654 - acc: 0.9458 - val_loss: 0.3346 - val_acc: 0.8750\n",
      "Epoch 8/30\n",
      "166/166 [==============================] - 0s 2ms/step - loss: 0.1091 - acc: 0.9759 - val_loss: 0.3868 - val_acc: 0.8750\n",
      "Epoch 9/30\n",
      "166/166 [==============================] - 0s 2ms/step - loss: 0.0783 - acc: 0.9880 - val_loss: 0.4262 - val_acc: 0.8636\n",
      "Epoch 10/30\n",
      "166/166 [==============================] - 0s 2ms/step - loss: 0.0575 - acc: 0.9880 - val_loss: 0.4205 - val_acc: 0.8864\n",
      "Epoch 11/30\n",
      "166/166 [==============================] - 0s 2ms/step - loss: 0.0511 - acc: 0.9880 - val_loss: 0.3763 - val_acc: 0.8750\n",
      "Epoch 12/30\n",
      "166/166 [==============================] - 0s 2ms/step - loss: 0.0566 - acc: 0.9880 - val_loss: 0.3534 - val_acc: 0.8864\n",
      "Epoch 13/30\n",
      "166/166 [==============================] - 0s 2ms/step - loss: 0.0543 - acc: 0.9880 - val_loss: 0.4574 - val_acc: 0.8750\n",
      "Epoch 14/30\n",
      "166/166 [==============================] - 0s 2ms/step - loss: 0.0390 - acc: 0.9880 - val_loss: 0.5108 - val_acc: 0.8409\n",
      "Epoch 15/30\n",
      "166/166 [==============================] - 0s 2ms/step - loss: 0.0525 - acc: 0.9880 - val_loss: 0.5887 - val_acc: 0.8636\n",
      "Epoch 16/30\n",
      "166/166 [==============================] - 0s 1ms/step - loss: 0.0236 - acc: 0.9940 - val_loss: 0.4853 - val_acc: 0.8864\n",
      "Epoch 17/30\n",
      "166/166 [==============================] - 0s 1ms/step - loss: 0.0263 - acc: 0.9940 - val_loss: 0.4236 - val_acc: 0.8750\n",
      "Epoch 18/30\n",
      "166/166 [==============================] - 0s 1ms/step - loss: 0.0211 - acc: 1.0000 - val_loss: 0.5829 - val_acc: 0.8636\n",
      "Epoch 19/30\n",
      "166/166 [==============================] - 0s 1ms/step - loss: 0.0156 - acc: 1.0000 - val_loss: 0.4912 - val_acc: 0.8750\n",
      "Epoch 20/30\n",
      "166/166 [==============================] - 0s 1ms/step - loss: 0.0230 - acc: 0.9940 - val_loss: 0.6082 - val_acc: 0.8750\n",
      "Epoch 21/30\n",
      "166/166 [==============================] - 0s 1ms/step - loss: 0.0215 - acc: 0.9940 - val_loss: 0.6204 - val_acc: 0.8636\n",
      "Epoch 22/30\n",
      "166/166 [==============================] - 0s 1ms/step - loss: 0.0185 - acc: 1.0000 - val_loss: 0.5568 - val_acc: 0.8864\n",
      "Epoch 23/30\n",
      "166/166 [==============================] - 0s 2ms/step - loss: 0.0303 - acc: 0.9940 - val_loss: 0.6642 - val_acc: 0.8636\n",
      "Epoch 24/30\n",
      "166/166 [==============================] - 0s 1ms/step - loss: 0.0096 - acc: 1.0000 - val_loss: 0.7335 - val_acc: 0.8636\n",
      "Epoch 25/30\n",
      "166/166 [==============================] - 0s 1ms/step - loss: 0.0181 - acc: 1.0000 - val_loss: 0.6491 - val_acc: 0.8864\n",
      "Epoch 26/30\n",
      "166/166 [==============================] - 0s 1ms/step - loss: 0.0231 - acc: 0.9940 - val_loss: 0.5438 - val_acc: 0.8750\n",
      "Epoch 27/30\n",
      "166/166 [==============================] - 0s 1ms/step - loss: 0.0084 - acc: 1.0000 - val_loss: 0.5744 - val_acc: 0.8750\n",
      "Epoch 28/30\n",
      "166/166 [==============================] - 0s 1ms/step - loss: 0.0052 - acc: 1.0000 - val_loss: 0.7812 - val_acc: 0.8523\n",
      "Epoch 29/30\n",
      "166/166 [==============================] - 0s 1ms/step - loss: 0.0159 - acc: 0.9940 - val_loss: 0.6058 - val_acc: 0.8750\n",
      "Epoch 30/30\n",
      "166/166 [==============================] - 0s 1ms/step - loss: 0.0032 - acc: 1.0000 - val_loss: 0.6562 - val_acc: 0.8864\n",
      "88/88 [==============================] - 0s 352us/step\n"
     ]
    }
   ],
   "source": [
    "model = Sequential() \n",
    "model.add(Flatten(input_shape=train_data.shape[1:])) \n",
    "model.add(Dense(100)) \n",
    "model.add(keras.layers.LeakyReLU(alpha=0.3))\n",
    "model.add(Dropout(0.5)) \n",
    "model.add(Dense(50))\n",
    "model.add(keras.layers.LeakyReLU(alpha=0.3))\n",
    "model.add(Dropout(0.3)) \n",
    "model.add(Dense(num_classes, activation='softmax'))\n",
    "model.compile(loss='categorical_crossentropy',\n",
    "   optimizer=optimizers.RMSprop(lr=1e-4),\n",
    "   metrics=['acc'])\n",
    "history = model.fit(train_data, train_labels, \n",
    "   epochs=epochs,\n",
    "   batch_size=batch_size, \n",
    "   validation_data=(validation_data, validation_labels))\n",
    "model.save_weights(top_model_weights_path)\n",
    "(eval_loss, eval_accuracy) = model.evaluate( \n",
    "    validation_data, validation_labels, batch_size=batch_size,     verbose=1)"
   ]
  },
  {
   "cell_type": "code",
   "execution_count": 18,
   "metadata": {},
   "outputs": [
    {
     "data": {
      "image/png": "[encoded data removed]",
      "text/plain": [
       "<Figure size 432x288 with 1 Axes>"
      ]
     },
     "metadata": {
      "needs_background": "light"
     },
     "output_type": "display_data"
    },
    {
     "data": {
      "image/png": "[encoded data removed]",
      "text/plain": [
       "<Figure size 432x288 with 1 Axes>"
      ]
     },
     "metadata": {
      "needs_background": "light"
     },
     "output_type": "display_data"
    }
   ],
   "source": [
    "acc = history.history['acc']\n",
    "val_acc = history.history['val_acc']\n",
    "loss = history.history['loss']\n",
    "val_loss = history.history['val_loss']\n",
    "epochs = range(len(acc))\n",
    "plt.plot(epochs, acc, 'r', label='Training acc')\n",
    "plt.plot(epochs, val_acc, 'b', label='Validation acc')\n",
    "plt.title('Training and validation accuracy')\n",
    "plt.ylabel('accuracy') \n",
    "plt.xlabel('epoch')\n",
    "plt.legend()\n",
    "plt.figure()\n",
    "plt.plot(epochs, loss, 'r', label='Training loss')\n",
    "plt.plot(epochs, val_loss, 'b', label='Validation loss')\n",
    "plt.title('Training and validation loss')\n",
    "plt.ylabel('loss') \n",
    "plt.xlabel('epoch')\n",
    "plt.legend()\n",
    "plt.show()"
   ]
  },
  {
   "cell_type": "code",
   "execution_count": 19,
   "metadata": {},
   "outputs": [],
   "source": [
    "from sklearn import metrics\n",
    "preds = np.round(model.predict(validation_data), 0)\n",
    "predicted_classes = np.argmax(preds, axis=1)\n",
    "true_classes = generator_top.classes\n",
    "class_labels = list(generator_top.class_indices.keys())\n"
   ]
  },
  {
   "cell_type": "code",
   "execution_count": 20,
   "metadata": {},
   "outputs": [
    {
     "name": "stdout",
     "output_type": "stream",
     "text": [
      "              precision    recall  f1-score   support\n",
      "\n",
      "        mesh       1.00      0.17      0.29         6\n",
      "      roller       0.96      0.94      0.95        54\n",
      "       vynil       0.76      0.93      0.84        28\n",
      "\n",
      "   micro avg       0.89      0.89      0.89        88\n",
      "   macro avg       0.91      0.68      0.69        88\n",
      "weighted avg       0.90      0.89      0.87        88\n",
      " samples avg       0.89      0.89      0.89        88\n",
      "\n"
     ]
    }
   ],
   "source": [
    "report = metrics.classification_report(validation_labels, preds, target_names=class_labels)\n",
    "print(report) "
   ]
  },
  {
   "cell_type": "code",
   "execution_count": 21,
   "metadata": {},
   "outputs": [],
   "source": [
    "import pandas as pd\n",
    "from sklearn.metrics import confusion_matrix\n",
    "from sklearn.utils.multiclass import unique_labels\n",
    "import itertools\n",
    "\n",
    "categorical_test_labels = pd.DataFrame(validation_labels).idxmax(axis=1)\n",
    "categorical_preds = pd.DataFrame(preds).idxmax(axis=1)\n",
    "\n",
    "cm = confusion_matrix(categorical_test_labels, categorical_preds)\n",
    "\n",
    "def plot_confusion_matrix(cm, classes,\n",
    "   normalize=False,\n",
    "   title='Confusion matrix',\n",
    "   cmap=plt.cm.Blues):\n",
    "    if normalize:\n",
    "        cm = cm.astype('float') / cm.sum(axis=1)[:, np.newaxis]\n",
    "\n",
    "    fig, ax = plt.subplots(figsize=(12,12))\n",
    "    im = ax.imshow(cm, interpolation='nearest', cmap=cmap)\n",
    "    ax.figure.colorbar(im, ax=ax)\n",
    "    # We want to show all ticks...\n",
    "    ax.set(xticks=np.arange(cm.shape[1]),\n",
    "           yticks=np.arange(cm.shape[0]),\n",
    "           # ... and label them with the respective list entries\n",
    "           xticklabels=classes, yticklabels=classes,\n",
    "           ylabel='True label',\n",
    "           xlabel='Predicted label')\n",
    "\n",
    "    # Rotate the tick labels and set their alignment.\n",
    "    plt.setp(ax.get_xticklabels(), rotation=45, ha=\"right\",\n",
    "             rotation_mode=\"anchor\")\n",
    "\n",
    "    # Loop over data dimensions and create text annotations.\n",
    "    fmt = '.2f' if normalize else 'd'\n",
    "    thresh = cm.max() / 2.\n",
    "    for i in range(cm.shape[0]):\n",
    "        for j in range(cm.shape[1]):\n",
    "            ax.text(j, i, format(cm[i, j], fmt),\n",
    "                    ha=\"center\", va=\"center\",\n",
    "                    color=\"black\" if cm[i, j] > thresh else \"black\")\n",
    "    fig.tight_layout()\n",
    "    plt.ylabel('True label')\n",
    "    plt.xlabel('Predicted label') "
   ]
  },
  {
   "cell_type": "code",
   "execution_count": 22,
   "metadata": {},
   "outputs": [
    {
     "data": {
      "image/png": "[encoded data removed]",
      "text/plain": [
       "<Figure size 864x864 with 2 Axes>"
      ]
     },
     "metadata": {
      "needs_background": "light"
     },
     "output_type": "display_data"
    }
   ],
   "source": [
    "plot_confusion_matrix(cm, class_labels, normalize=True)"
   ]
  },
  {
   "cell_type": "code",
   "execution_count": 23,
   "metadata": {},
   "outputs": [],
   "source": [
    "#Save the model\n",
    "\n",
    "vgg16_yaml = vgg16.to_yaml()\n",
    "with open(\"Model/banner_classification_vgg16_model.yaml\", \"w\") as yaml_file:\n",
    "    yaml_file.write(vgg16_yaml)\n",
    "vgg16.save_weights(\"Model/banner_classification_vgg16.h5\")\n",
    "\n",
    "model_yaml = model.to_yaml()\n",
    "with open(\"Model/banner_classification_model.yaml\", \"w\") as yaml_file:\n",
    "    yaml_file.write(model_yaml)\n",
    "model.save_weights(\"Model/banner_classification_model.h5\")"
   ]
  },
  {
   "cell_type": "code",
   "execution_count": null,
   "metadata": {},
   "outputs": [],
   "source": []
  }
 ],
 "metadata": {
  "kernelspec": {
   "display_name": "Python 3",
   "language": "python",
   "name": "python3"
  },
  "language_info": {
   "codemirror_mode": {
    "name": "ipython",
    "version": 3
   },
   "file_extension": ".py",
   "mimetype": "text/x-python",
   "name": "python",
   "nbconvert_exporter": "python",
   "pygments_lexer": "ipython3",
   "version": "3.7.5"
  }
 },
 "nbformat": 4,
 "nbformat_minor": 4
}
